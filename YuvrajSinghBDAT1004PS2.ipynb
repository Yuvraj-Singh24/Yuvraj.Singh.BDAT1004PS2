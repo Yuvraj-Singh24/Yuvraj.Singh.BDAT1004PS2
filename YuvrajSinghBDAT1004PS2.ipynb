{
 "cells": [
  {
   "cell_type": "markdown",
   "id": "60dc268c",
   "metadata": {},
   "source": [
    "# Problem 1:"
   ]
  },
  {
   "cell_type": "code",
   "execution_count": 1,
   "id": "5005470f",
   "metadata": {},
   "outputs": [
    {
     "data": {
      "text/plain": [
       "6"
      ]
     },
     "execution_count": 1,
     "metadata": {},
     "output_type": "execute_result"
    }
   ],
   "source": [
    "a = 0\n",
    "\n",
    "def b():\n",
    "    global a\n",
    "    a = c(a)\n",
    "    \n",
    "def c(a):\n",
    "    return a + 2\n",
    "\n",
    "# executing asked statements\n",
    "b()\n",
    "b()\n",
    "b()\n",
    "a"
   ]
  },
  {
   "cell_type": "markdown",
   "id": "66b35ce5",
   "metadata": {},
   "source": [
    "The final output of the above code is 6.\n",
    "We are calling function b thrice before finally looking for the value of a.\n",
    "Each time b is called a is incremented by 2, as the initially a is assigned a integer value, i.e. 0, so when b() is called for the first time the interpreter goes into function c and a is updated to 2, the second time we call b() a is incremented to 4 and similarly, when we call b() for the third time a which was 4 is incremented by 2 and updated as 6."
   ]
  },
  {
   "cell_type": "markdown",
   "id": "86fafe64",
   "metadata": {},
   "source": [
    "# Problem 2:"
   ]
  },
  {
   "cell_type": "code",
   "execution_count": 2,
   "id": "c259a8c9",
   "metadata": {},
   "outputs": [],
   "source": [
    "def fileLength(fileName: str):\n",
    "    try:\n",
    "        file = open(fileName)\n",
    "        contents = file.read()\n",
    "        file.close()\n",
    "        print(len(contents))\n",
    "    except FileNotFoundError:\n",
    "        print(f\"File {fileName} not found.\")"
   ]
  },
  {
   "cell_type": "code",
   "execution_count": 3,
   "id": "18bab1cc",
   "metadata": {},
   "outputs": [
    {
     "name": "stdout",
     "output_type": "stream",
     "text": [
      "123\n"
     ]
    }
   ],
   "source": [
    "fileLength(\"fileLength.txt\")"
   ]
  },
  {
   "cell_type": "code",
   "execution_count": 4,
   "id": "358ab7d1",
   "metadata": {},
   "outputs": [
    {
     "name": "stdout",
     "output_type": "stream",
     "text": [
      "File ileLength.txt not found.\n"
     ]
    }
   ],
   "source": [
    "fileLength(\"ileLength.txt\")"
   ]
  },
  {
   "cell_type": "markdown",
   "id": "b9947e88",
   "metadata": {},
   "source": [
    "# Problem 3:"
   ]
  },
  {
   "cell_type": "code",
   "execution_count": 5,
   "id": "a217fea4",
   "metadata": {},
   "outputs": [],
   "source": [
    "class Marsupial:\n",
    "    \n",
    "    def __init__(self):\n",
    "        self.itemList = []\n",
    "\n",
    "    def put_in_pouch(self, item: str):\n",
    "        self.itemList.append(item)\n",
    "\n",
    "    def pouch_contents(self):\n",
    "        print(self.itemList)"
   ]
  },
  {
   "cell_type": "code",
   "execution_count": 6,
   "id": "3a49c9c5",
   "metadata": {},
   "outputs": [],
   "source": [
    "m = Marsupial()\n",
    "m.put_in_pouch('doll')\n",
    "m.put_in_pouch('firetruck')\n",
    "m.put_in_pouch('kitten')"
   ]
  },
  {
   "cell_type": "code",
   "execution_count": 7,
   "id": "2a2a6560",
   "metadata": {},
   "outputs": [
    {
     "name": "stdout",
     "output_type": "stream",
     "text": [
      "['doll', 'firetruck', 'kitten']\n"
     ]
    }
   ],
   "source": [
    "m.pouch_contents()"
   ]
  },
  {
   "cell_type": "code",
   "execution_count": 8,
   "id": "058c0fd9",
   "metadata": {},
   "outputs": [],
   "source": [
    "class Kangaroo(Marsupial):\n",
    "    \n",
    "    def __init__(self, x, y):\n",
    "        Marsupial.__init__(self)\n",
    "        self.x = x\n",
    "        self.y = y\n",
    "        \n",
    "    def jump(self, dx, dy):\n",
    "        self.x += dx\n",
    "        self.y += dy\n",
    "        \n",
    "    def __repr__(self):\n",
    "        return f'I am a Kangaroo located at coordinates ({self.x},{self.y})'"
   ]
  },
  {
   "cell_type": "code",
   "execution_count": 9,
   "id": "abcfbb16",
   "metadata": {},
   "outputs": [
    {
     "name": "stdout",
     "output_type": "stream",
     "text": [
      "I am a Kangaroo located at coordinates (0,0)\n"
     ]
    }
   ],
   "source": [
    "k = Kangaroo(0,0) \n",
    "print(k)"
   ]
  },
  {
   "cell_type": "code",
   "execution_count": 10,
   "id": "ad7cb58f",
   "metadata": {},
   "outputs": [
    {
     "name": "stdout",
     "output_type": "stream",
     "text": [
      "['doll', 'firetruck', 'kitten']\n"
     ]
    }
   ],
   "source": [
    "k.put_in_pouch('doll')\n",
    "k.put_in_pouch('firetruck') \n",
    "k.put_in_pouch('kitten') \n",
    "k.pouch_contents() "
   ]
  },
  {
   "cell_type": "code",
   "execution_count": 11,
   "id": "72bb26ac",
   "metadata": {},
   "outputs": [
    {
     "name": "stdout",
     "output_type": "stream",
     "text": [
      "I am a Kangaroo located at coordinates (3,0)\n"
     ]
    }
   ],
   "source": [
    "k.jump(1,0)\n",
    "k.jump(1,0)\n",
    "k.jump(1,0)\n",
    "print(k)"
   ]
  },
  {
   "cell_type": "markdown",
   "id": "a8acd1a7",
   "metadata": {},
   "source": [
    "# Problem 4:"
   ]
  },
  {
   "cell_type": "code",
   "execution_count": 12,
   "id": "f9c511c5",
   "metadata": {},
   "outputs": [],
   "source": [
    "def collatz(n: int):       \n",
    "    if n > 1:\n",
    "        print(n)\n",
    "        if n % 2 == 0:\n",
    "            n = n//2\n",
    "        else:\n",
    "            n = 3*n + 1\n",
    "        collatz(n)\n",
    "    else:\n",
    "        print(n)"
   ]
  },
  {
   "cell_type": "code",
   "execution_count": 13,
   "id": "611d18f5",
   "metadata": {},
   "outputs": [
    {
     "name": "stdout",
     "output_type": "stream",
     "text": [
      "10\n",
      "5\n",
      "16\n",
      "8\n",
      "4\n",
      "2\n",
      "1\n"
     ]
    }
   ],
   "source": [
    "collatz(10)"
   ]
  },
  {
   "cell_type": "markdown",
   "id": "09767ef4",
   "metadata": {},
   "source": [
    "# Problem 5:"
   ]
  },
  {
   "cell_type": "code",
   "execution_count": 14,
   "id": "8a6c6e67",
   "metadata": {},
   "outputs": [],
   "source": [
    "def binary(number: int):\n",
    "    if number <= 0:\n",
    "        print(0)\n",
    "        return\n",
    "    elif number > 1:\n",
    "        binary(number//2)\n",
    "    \n",
    "    print(number % 2, end = '')"
   ]
  },
  {
   "cell_type": "code",
   "execution_count": 15,
   "id": "18881ddb",
   "metadata": {},
   "outputs": [
    {
     "name": "stdout",
     "output_type": "stream",
     "text": [
      "0\n"
     ]
    }
   ],
   "source": [
    "binary(0)"
   ]
  },
  {
   "cell_type": "code",
   "execution_count": 16,
   "id": "797aa189",
   "metadata": {},
   "outputs": [
    {
     "name": "stdout",
     "output_type": "stream",
     "text": [
      "1"
     ]
    }
   ],
   "source": [
    "binary(1)"
   ]
  },
  {
   "cell_type": "code",
   "execution_count": 17,
   "id": "194ccea3",
   "metadata": {},
   "outputs": [
    {
     "name": "stdout",
     "output_type": "stream",
     "text": [
      "11"
     ]
    }
   ],
   "source": [
    "binary(3)"
   ]
  },
  {
   "cell_type": "code",
   "execution_count": 18,
   "id": "65a3ada5",
   "metadata": {},
   "outputs": [
    {
     "name": "stdout",
     "output_type": "stream",
     "text": [
      "1001"
     ]
    }
   ],
   "source": [
    "binary(9)"
   ]
  },
  {
   "cell_type": "markdown",
   "id": "5187271d",
   "metadata": {},
   "source": [
    "# Problem 6:"
   ]
  },
  {
   "cell_type": "code",
   "execution_count": 19,
   "id": "588984e1",
   "metadata": {},
   "outputs": [],
   "source": [
    "from html.parser import HTMLParser\n",
    "class HeadingParser(HTMLParser):\n",
    "    h1 = False\n",
    "    def handle_starttag(self, tag, attrs):\n",
    "        if tag == 'h1':\n",
    "            self.h1 = True\n",
    "             \n",
    "    def handle_data(self, data):\n",
    "        if self.h1:\n",
    "            print(data, end='')"
   ]
  },
  {
   "cell_type": "code",
   "execution_count": 20,
   "id": "cea6d625",
   "metadata": {},
   "outputs": [
    {
     "name": "stdout",
     "output_type": "stream",
     "text": [
      "W3C Mission\n",
      "\tPrinciples\n",
      " \n",
      "\n",
      "\n",
      "\n"
     ]
    }
   ],
   "source": [
    "infile = open('w3c.html')\n",
    "content = infile.read()\n",
    "infile.close()\n",
    "hp = HeadingParser()\n",
    "hp.feed(content)"
   ]
  },
  {
   "cell_type": "markdown",
   "id": "e69d28a2",
   "metadata": {},
   "source": [
    "# Problem 7:"
   ]
  },
  {
   "cell_type": "code",
   "execution_count": 21,
   "id": "d50dc979",
   "metadata": {},
   "outputs": [],
   "source": [
    "from urllib.request import urlopen\n",
    "from urllib.parse import urljoin\n",
    "from html.parser import HTMLParser\n",
    "class Collector(HTMLParser):\n",
    "    'collects hyperlink URLs into a list'\n",
    "\n",
    "    def __init__(self, url):\n",
    "        'initializes parser, the url, and a list'\n",
    "        HTMLParser.__init__(self)\n",
    "        self.url = url\n",
    "        self.links = []\n",
    "\n",
    "    \n",
    "    def handle_starttag(self, tag, attrs):\n",
    "        'collects hyperlink URLs in their absolute format'\n",
    "        if tag == 'a':\n",
    "            for attr in attrs:\n",
    "                if attr[0] == 'href':\n",
    "                    absolute = urljoin(self.url, attr[1])\n",
    "                    if absolute[:4] == 'http':\n",
    "                        self.links.append(absolute)\n",
    "                        \n",
    "                        \n",
    "    def getLinks(self):\n",
    "        return self.links   \n",
    "    \n",
    "## used this function from class"
   ]
  },
  {
   "cell_type": "code",
   "execution_count": 22,
   "id": "3b68438f",
   "metadata": {},
   "outputs": [],
   "source": [
    "def webdir(url: str, depth: int, indent: int):\n",
    "    print(('\\t'*indent) + url)\n",
    "    resource = urlopen(url)\n",
    "    content = resource.read().decode()\n",
    "    collector = Collector(url)\n",
    "    collector.feed(content)\n",
    "    links = collector.getLinks()\n",
    "    if depth > 0:\n",
    "        for link in links:\n",
    "            webdir(link, depth-1, indent+1)"
   ]
  },
  {
   "cell_type": "code",
   "execution_count": 23,
   "id": "db945d10",
   "metadata": {},
   "outputs": [
    {
     "name": "stdout",
     "output_type": "stream",
     "text": [
      "http://reed.cs.depaul.edu/lperkovic/test1.html\n",
      "\thttp://reed.cs.depaul.edu/lperkovic/test2.html\n",
      "\t\thttp://reed.cs.depaul.edu/lperkovic/test4.html\n",
      "\thttp://reed.cs.depaul.edu/lperkovic/test3.html\n",
      "\t\thttp://reed.cs.depaul.edu/lperkovic/test4.html\n"
     ]
    }
   ],
   "source": [
    "webdir('http://reed.cs.depaul.edu/lperkovic/test1.html', 2, 0)"
   ]
  },
  {
   "cell_type": "markdown",
   "id": "34efd33b",
   "metadata": {},
   "source": [
    "# Problem 8:"
   ]
  },
  {
   "cell_type": "code",
   "execution_count": 25,
   "id": "6adf4aae",
   "metadata": {},
   "outputs": [],
   "source": [
    "import sqlite3\n",
    "connector = sqlite3.connect('DPPS-2')\n",
    "curs=connector.cursor()\n",
    "\n",
    "curs.execute(\"CREATE TABLE Weather (City text, Country text, Season text, Temperature real, Rainfall real)\")\n",
    "curs.execute(\"INSERT INTO Weather VALUES ('Mumbai','India','Winter',24.8,5.9),('Mumbai','India','Spring',28.4,16.2)\")\n",
    "curs.execute(\"INSERT INTO Weather VALUES  ('Mumbai','India','Summer',27.9,1549.4),('Mumbai','India','Fall',27.6,346.0)\")\n",
    "curs.execute(\"INSERT INTO Weather VALUES ('London','United Kingdom','Winter',4.2,207.7),('London','United Kingdom','Spring',8.3,169.6)\")\n",
    "curs.execute(\"INSERT INTO Weather VALUES ('London','United Kingdom','Summer',15.7,157.0),('London','United Kingdom','Fall',10.4,218.5)\")\n",
    "curs.execute(\"INSERT INTO Weather VALUES ('Cairo','Egypt','Winter',13.6,16.5),('Cairo','Egypt','Spring',20.7,6.5)\")\n",
    "curs.execute(\"INSERT INTO Weather VALUES ('Cairo','Egypt','Summer',27.7,0.1),('Cairo','Egypt','Fall',22.2,4.5)\")\n",
    "             \n",
    "\n",
    "connector.commit()"
   ]
  },
  {
   "cell_type": "code",
   "execution_count": 26,
   "id": "a76e8f15",
   "metadata": {},
   "outputs": [
    {
     "data": {
      "text/plain": [
       "[(24.8,),\n",
       " (28.4,),\n",
       " (27.9,),\n",
       " (27.6,),\n",
       " (4.2,),\n",
       " (8.3,),\n",
       " (15.7,),\n",
       " (10.4,),\n",
       " (13.6,),\n",
       " (20.7,),\n",
       " (27.7,),\n",
       " (22.2,)]"
      ]
     },
     "execution_count": 26,
     "metadata": {},
     "output_type": "execute_result"
    }
   ],
   "source": [
    "# a.)\n",
    "\n",
    "curs.execute('SELECT Temperature FROM Weather')\n",
    "curs.fetchall()"
   ]
  },
  {
   "cell_type": "code",
   "execution_count": 27,
   "id": "c190f0fd",
   "metadata": {},
   "outputs": [
    {
     "data": {
      "text/plain": [
       "[('Mumbai',), ('London',), ('Cairo',)]"
      ]
     },
     "execution_count": 27,
     "metadata": {},
     "output_type": "execute_result"
    }
   ],
   "source": [
    "# b.)\n",
    "\n",
    "curs.execute('SELECT DISTINCT City FROM Weather')\n",
    "curs.fetchall()"
   ]
  },
  {
   "cell_type": "code",
   "execution_count": 28,
   "id": "29a6d42b",
   "metadata": {},
   "outputs": [
    {
     "data": {
      "text/plain": [
       "[('Mumbai', 'India', 'Winter', 24.8, 5.9),\n",
       " ('Mumbai', 'India', 'Spring', 28.4, 16.2),\n",
       " ('Mumbai', 'India', 'Summer', 27.9, 1549.4),\n",
       " ('Mumbai', 'India', 'Fall', 27.6, 346.0)]"
      ]
     },
     "execution_count": 28,
     "metadata": {},
     "output_type": "execute_result"
    }
   ],
   "source": [
    "# c.)\n",
    "\n",
    "curs.execute(\"SELECT * FROM Weather WHERE Country == 'India'\")\n",
    "curs.fetchall()"
   ]
  },
  {
   "cell_type": "code",
   "execution_count": 29,
   "id": "4292c307",
   "metadata": {},
   "outputs": [
    {
     "data": {
      "text/plain": [
       "[('Mumbai', 'India', 'Fall', 27.6, 346.0),\n",
       " ('London', 'United Kingdom', 'Fall', 10.4, 218.5),\n",
       " ('Cairo', 'Egypt', 'Fall', 22.2, 4.5)]"
      ]
     },
     "execution_count": 29,
     "metadata": {},
     "output_type": "execute_result"
    }
   ],
   "source": [
    "# d.)\n",
    "\n",
    "curs.execute(\"SELECT * FROM Weather WHERE Season == 'Fall'\")\n",
    "curs.fetchall()"
   ]
  },
  {
   "cell_type": "code",
   "execution_count": 30,
   "id": "3e222e9f",
   "metadata": {},
   "outputs": [
    {
     "data": {
      "text/plain": [
       "[('Mumbai', 'India', 'Fall'),\n",
       " ('London', 'United Kingdom', 'Winter'),\n",
       " ('London', 'United Kingdom', 'Fall')]"
      ]
     },
     "execution_count": 30,
     "metadata": {},
     "output_type": "execute_result"
    }
   ],
   "source": [
    "# e.)\n",
    "\n",
    "curs.execute(\"SELECT City, Country, Season FROM Weather WHERE Rainfall >= 200 AND Rainfall <= 400\")\n",
    "curs.fetchall()"
   ]
  },
  {
   "cell_type": "code",
   "execution_count": 31,
   "id": "952f8c03",
   "metadata": {},
   "outputs": [
    {
     "data": {
      "text/plain": [
       "[('Cairo', 'Egypt'), ('Mumbai', 'India')]"
      ]
     },
     "execution_count": 31,
     "metadata": {},
     "output_type": "execute_result"
    }
   ],
   "source": [
    "# f.)\n",
    "\n",
    "curs.execute(\"select City,Country from Weather where Season = 'Fall' and Temperature > 20 order by Temperature \")\n",
    "curs.fetchall()"
   ]
  },
  {
   "cell_type": "code",
   "execution_count": 32,
   "id": "b24a93a2",
   "metadata": {},
   "outputs": [
    {
     "data": {
      "text/plain": [
       "[(27.6,)]"
      ]
     },
     "execution_count": 32,
     "metadata": {},
     "output_type": "execute_result"
    }
   ],
   "source": [
    "# g.)\n",
    "\n",
    "curs.execute(\"SELECT SUM(Rainfall) FROM Weather WHERE City == 'Cairo'\")\n",
    "curs.fetchall()"
   ]
  },
  {
   "cell_type": "code",
   "execution_count": 33,
   "id": "531f76ba",
   "metadata": {},
   "outputs": [
    {
     "data": {
      "text/plain": [
       "[('Fall', 569.0),\n",
       " ('Spring', 192.29999999999998),\n",
       " ('Summer', 1706.5),\n",
       " ('Winter', 230.1)]"
      ]
     },
     "execution_count": 33,
     "metadata": {},
     "output_type": "execute_result"
    }
   ],
   "source": [
    "# h.)\n",
    "\n",
    "curs.execute(\"SELECT Season, SUM(Rainfall) FROM Weather GROUP BY Season\")\n",
    "curs.fetchall()"
   ]
  },
  {
   "cell_type": "markdown",
   "id": "b3009ba1",
   "metadata": {},
   "source": [
    "# Problem 9:"
   ]
  },
  {
   "cell_type": "code",
   "execution_count": 34,
   "id": "147e5cb8",
   "metadata": {},
   "outputs": [],
   "source": [
    "words = ['The', 'quick', 'brown', 'fox', 'jumps', 'over', 'the', 'lazy', 'dog']"
   ]
  },
  {
   "cell_type": "code",
   "execution_count": 35,
   "id": "cccbf1e8",
   "metadata": {},
   "outputs": [
    {
     "name": "stdout",
     "output_type": "stream",
     "text": [
      "['THE', 'QUICK', 'BROWN', 'FOX', 'JUMPS', 'OVER', 'THE', 'LAZY', 'DOG']\n"
     ]
    }
   ],
   "source": [
    "print([x.upper() for x in words])"
   ]
  },
  {
   "cell_type": "code",
   "execution_count": 36,
   "id": "ecb1f706",
   "metadata": {},
   "outputs": [
    {
     "name": "stdout",
     "output_type": "stream",
     "text": [
      "['the', 'quick', 'brown', 'fox', 'jumps', 'over', 'the', 'lazy', 'dog']\n"
     ]
    }
   ],
   "source": [
    "print([x.lower() for x in words])"
   ]
  },
  {
   "cell_type": "code",
   "execution_count": 37,
   "id": "8aec3e03",
   "metadata": {},
   "outputs": [
    {
     "name": "stdout",
     "output_type": "stream",
     "text": [
      "[3, 5, 5, 3, 5, 4, 3, 4, 3]\n"
     ]
    }
   ],
   "source": [
    "print([len(x) for x in words])"
   ]
  },
  {
   "cell_type": "code",
   "execution_count": 38,
   "id": "91781ac9",
   "metadata": {},
   "outputs": [
    {
     "name": "stdout",
     "output_type": "stream",
     "text": [
      "[['THE', 'the', 3], ['QUICK', 'quick', 5], ['BROWN', 'brown', 5], ['FOX', 'fox', 3], ['JUMPS', 'jumps', 5], ['OVER', 'over', 4], ['THE', 'the', 3], ['LAZY', 'lazy', 4], ['DOG', 'dog', 3]]\n"
     ]
    }
   ],
   "source": [
    "print([[x.upper(), x.lower(), len(x)] for x in words])"
   ]
  },
  {
   "cell_type": "code",
   "execution_count": 39,
   "id": "ce87c8e6",
   "metadata": {},
   "outputs": [
    {
     "name": "stdout",
     "output_type": "stream",
     "text": [
      "['quick', 'brown', 'jumps', 'over', 'lazy']\n"
     ]
    }
   ],
   "source": [
    "# In problem set 2 ques 9e the ques asked for words with 4 or more characters but the sample had words with even less \n",
    "# characters, So I sticked with the 4 ore more characters as specified in question\n",
    "\n",
    "print([x for x in words if len(x) >= 4])"
   ]
  },
  {
   "cell_type": "code",
   "execution_count": null,
   "id": "bd5df469",
   "metadata": {},
   "outputs": [],
   "source": []
  }
 ],
 "metadata": {
  "kernelspec": {
   "display_name": "Python 3",
   "language": "python",
   "name": "python3"
  },
  "language_info": {
   "codemirror_mode": {
    "name": "ipython",
    "version": 3
   },
   "file_extension": ".py",
   "mimetype": "text/x-python",
   "name": "python",
   "nbconvert_exporter": "python",
   "pygments_lexer": "ipython3",
   "version": "3.8.8"
  }
 },
 "nbformat": 4,
 "nbformat_minor": 5
}
